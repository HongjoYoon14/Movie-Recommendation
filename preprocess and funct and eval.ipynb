{
 "cells": [
  {
   "cell_type": "code",
   "execution_count": 7,
   "metadata": {},
   "outputs": [],
   "source": [
    "import pandas as pd\n",
    "from sklearn.feature_extraction.text import TfidfVectorizer  # Import TfidfVectorizer\n",
    "from sklearn.cluster import KMeans\n",
    "from sklearn.pipeline import Pipeline\n",
    "import spacy\n",
    "from spacy.lang.en.stop_words import STOP_WORDS\n",
    "import string\n",
    "from sklearn.decomposition import PCA\n",
    "from sklearn.decomposition import LatentDirichletAllocation as LDA\n",
    "from sklearn.metrics.pairwise import cosine_similarity\n",
    "import matplotlib.pyplot as plt\n",
    "from sklearn.metrics import silhouette_score\n",
    "import numpy as np"
   ]
  },
  {
   "cell_type": "markdown",
   "metadata": {},
   "source": [
    "### Clean csv"
   ]
  },
  {
   "cell_type": "code",
   "execution_count": 2,
   "metadata": {},
   "outputs": [
    {
     "data": {
      "text/html": [
       "<div>\n",
       "<style scoped>\n",
       "    .dataframe tbody tr th:only-of-type {\n",
       "        vertical-align: middle;\n",
       "    }\n",
       "\n",
       "    .dataframe tbody tr th {\n",
       "        vertical-align: top;\n",
       "    }\n",
       "\n",
       "    .dataframe thead th {\n",
       "        text-align: right;\n",
       "    }\n",
       "</style>\n",
       "<table border=\"1\" class=\"dataframe\">\n",
       "  <thead>\n",
       "    <tr style=\"text-align: right;\">\n",
       "      <th></th>\n",
       "      <th>names</th>\n",
       "      <th>score</th>\n",
       "      <th>genre</th>\n",
       "      <th>overview</th>\n",
       "      <th>crew</th>\n",
       "    </tr>\n",
       "  </thead>\n",
       "  <tbody>\n",
       "    <tr>\n",
       "      <th>0</th>\n",
       "      <td>Creed III</td>\n",
       "      <td>73.0</td>\n",
       "      <td>Drama, Action</td>\n",
       "      <td>After dominating the boxing world, Adonis Cree...</td>\n",
       "      <td>Michael B. Jordan, Adonis Creed, Tessa Thompso...</td>\n",
       "    </tr>\n",
       "    <tr>\n",
       "      <th>1</th>\n",
       "      <td>Avatar: The Way of Water</td>\n",
       "      <td>78.0</td>\n",
       "      <td>Science Fiction, Adventure, Action</td>\n",
       "      <td>Set more than a decade after the events of the...</td>\n",
       "      <td>Sam Worthington, Jake Sully, Zoe Saldaña, Neyt...</td>\n",
       "    </tr>\n",
       "    <tr>\n",
       "      <th>2</th>\n",
       "      <td>The Super Mario Bros. Movie</td>\n",
       "      <td>76.0</td>\n",
       "      <td>Animation, Adventure, Family, Fantasy, Comedy</td>\n",
       "      <td>While working underground to fix a water main,...</td>\n",
       "      <td>Chris Pratt, Mario (voice), Anya Taylor-Joy, P...</td>\n",
       "    </tr>\n",
       "    <tr>\n",
       "      <th>3</th>\n",
       "      <td>Mummies</td>\n",
       "      <td>70.0</td>\n",
       "      <td>Animation, Comedy, Family, Adventure, Fantasy</td>\n",
       "      <td>Through a series of unfortunate events, three ...</td>\n",
       "      <td>Óscar Barberán, Thut (voice), Ana Esther Albor...</td>\n",
       "    </tr>\n",
       "    <tr>\n",
       "      <th>4</th>\n",
       "      <td>Supercell</td>\n",
       "      <td>61.0</td>\n",
       "      <td>Action</td>\n",
       "      <td>Good-hearted teenager William always lived in ...</td>\n",
       "      <td>Skeet Ulrich, Roy Cameron, Anne Heche, Dr Quin...</td>\n",
       "    </tr>\n",
       "  </tbody>\n",
       "</table>\n",
       "</div>"
      ],
      "text/plain": [
       "                         names  score  \\\n",
       "0                    Creed III   73.0   \n",
       "1     Avatar: The Way of Water   78.0   \n",
       "2  The Super Mario Bros. Movie   76.0   \n",
       "3                      Mummies   70.0   \n",
       "4                    Supercell   61.0   \n",
       "\n",
       "                                           genre  \\\n",
       "0                                  Drama, Action   \n",
       "1             Science Fiction, Adventure, Action   \n",
       "2  Animation, Adventure, Family, Fantasy, Comedy   \n",
       "3  Animation, Comedy, Family, Adventure, Fantasy   \n",
       "4                                         Action   \n",
       "\n",
       "                                            overview  \\\n",
       "0  After dominating the boxing world, Adonis Cree...   \n",
       "1  Set more than a decade after the events of the...   \n",
       "2  While working underground to fix a water main,...   \n",
       "3  Through a series of unfortunate events, three ...   \n",
       "4  Good-hearted teenager William always lived in ...   \n",
       "\n",
       "                                                crew  \n",
       "0  Michael B. Jordan, Adonis Creed, Tessa Thompso...  \n",
       "1  Sam Worthington, Jake Sully, Zoe Saldaña, Neyt...  \n",
       "2  Chris Pratt, Mario (voice), Anya Taylor-Joy, P...  \n",
       "3  Óscar Barberán, Thut (voice), Ana Esther Albor...  \n",
       "4  Skeet Ulrich, Roy Cameron, Anne Heche, Dr Quin...  "
      ]
     },
     "execution_count": 2,
     "metadata": {},
     "output_type": "execute_result"
    }
   ],
   "source": [
    "df = pd.read_csv(\"imdb_movies.csv\") #set dataframe\n",
    "\n",
    "#get rid of columns such as orig_titlem budget_x, revenue, country\n",
    "df.drop(df.columns[-6:], axis=1, inplace=True)\n",
    "#get rid of date\n",
    "df.drop(df.columns[1], axis=1, inplace=True)\n",
    "df.head()"
   ]
  },
  {
   "cell_type": "code",
   "execution_count": 3,
   "metadata": {},
   "outputs": [
    {
     "name": "stdout",
     "output_type": "stream",
     "text": [
      "0\n"
     ]
    }
   ],
   "source": [
    "# Remove rows with any empty cells\n",
    "df.dropna(inplace=True)\n",
    "print(df['genre'].isna().sum())\n"
   ]
  },
  {
   "cell_type": "markdown",
   "metadata": {},
   "source": [
    "### Preprocess data"
   ]
  },
  {
   "cell_type": "code",
   "execution_count": 4,
   "metadata": {},
   "outputs": [
    {
     "data": {
      "text/html": [
       "<div>\n",
       "<style scoped>\n",
       "    .dataframe tbody tr th:only-of-type {\n",
       "        vertical-align: middle;\n",
       "    }\n",
       "\n",
       "    .dataframe tbody tr th {\n",
       "        vertical-align: top;\n",
       "    }\n",
       "\n",
       "    .dataframe thead th {\n",
       "        text-align: right;\n",
       "    }\n",
       "</style>\n",
       "<table border=\"1\" class=\"dataframe\">\n",
       "  <thead>\n",
       "    <tr style=\"text-align: right;\">\n",
       "      <th></th>\n",
       "      <th>names</th>\n",
       "      <th>score</th>\n",
       "      <th>genre</th>\n",
       "      <th>overview</th>\n",
       "      <th>crew</th>\n",
       "      <th>preprocessed_synopsis</th>\n",
       "      <th>preprocessed_genre</th>\n",
       "    </tr>\n",
       "  </thead>\n",
       "  <tbody>\n",
       "    <tr>\n",
       "      <th>0</th>\n",
       "      <td>Creed III</td>\n",
       "      <td>73.0</td>\n",
       "      <td>Drama, Action</td>\n",
       "      <td>After dominating the boxing world, Adonis Cree...</td>\n",
       "      <td>Michael B. Jordan, Adonis Creed, Tessa Thompso...</td>\n",
       "      <td>dominate box world adonis creed thrive career ...</td>\n",
       "      <td>drama    action</td>\n",
       "    </tr>\n",
       "    <tr>\n",
       "      <th>1</th>\n",
       "      <td>Avatar: The Way of Water</td>\n",
       "      <td>78.0</td>\n",
       "      <td>Science Fiction, Adventure, Action</td>\n",
       "      <td>Set more than a decade after the events of the...</td>\n",
       "      <td>Sam Worthington, Jake Sully, Zoe Saldaña, Neyt...</td>\n",
       "      <td>set decade event film learn story sully family...</td>\n",
       "      <td>science fiction    adventure    action</td>\n",
       "    </tr>\n",
       "    <tr>\n",
       "      <th>2</th>\n",
       "      <td>The Super Mario Bros. Movie</td>\n",
       "      <td>76.0</td>\n",
       "      <td>Animation, Adventure, Family, Fantasy, Comedy</td>\n",
       "      <td>While working underground to fix a water main,...</td>\n",
       "      <td>Chris Pratt, Mario (voice), Anya Taylor-Joy, P...</td>\n",
       "      <td>work underground fix water main brooklyn plumb...</td>\n",
       "      <td>animation    adventure    family    fantasy   ...</td>\n",
       "    </tr>\n",
       "    <tr>\n",
       "      <th>3</th>\n",
       "      <td>Mummies</td>\n",
       "      <td>70.0</td>\n",
       "      <td>Animation, Comedy, Family, Adventure, Fantasy</td>\n",
       "      <td>Through a series of unfortunate events, three ...</td>\n",
       "      <td>Óscar Barberán, Thut (voice), Ana Esther Albor...</td>\n",
       "      <td>series unfortunate event mummy end present day...</td>\n",
       "      <td>animation    comedy    family    adventure    ...</td>\n",
       "    </tr>\n",
       "    <tr>\n",
       "      <th>4</th>\n",
       "      <td>Supercell</td>\n",
       "      <td>61.0</td>\n",
       "      <td>Action</td>\n",
       "      <td>Good-hearted teenager William always lived in ...</td>\n",
       "      <td>Skeet Ulrich, Roy Cameron, Anne Heche, Dr Quin...</td>\n",
       "      <td>good hearted teenager william live hope follow...</td>\n",
       "      <td>action</td>\n",
       "    </tr>\n",
       "  </tbody>\n",
       "</table>\n",
       "</div>"
      ],
      "text/plain": [
       "                         names  score  \\\n",
       "0                    Creed III   73.0   \n",
       "1     Avatar: The Way of Water   78.0   \n",
       "2  The Super Mario Bros. Movie   76.0   \n",
       "3                      Mummies   70.0   \n",
       "4                    Supercell   61.0   \n",
       "\n",
       "                                           genre  \\\n",
       "0                                  Drama, Action   \n",
       "1             Science Fiction, Adventure, Action   \n",
       "2  Animation, Adventure, Family, Fantasy, Comedy   \n",
       "3  Animation, Comedy, Family, Adventure, Fantasy   \n",
       "4                                         Action   \n",
       "\n",
       "                                            overview  \\\n",
       "0  After dominating the boxing world, Adonis Cree...   \n",
       "1  Set more than a decade after the events of the...   \n",
       "2  While working underground to fix a water main,...   \n",
       "3  Through a series of unfortunate events, three ...   \n",
       "4  Good-hearted teenager William always lived in ...   \n",
       "\n",
       "                                                crew  \\\n",
       "0  Michael B. Jordan, Adonis Creed, Tessa Thompso...   \n",
       "1  Sam Worthington, Jake Sully, Zoe Saldaña, Neyt...   \n",
       "2  Chris Pratt, Mario (voice), Anya Taylor-Joy, P...   \n",
       "3  Óscar Barberán, Thut (voice), Ana Esther Albor...   \n",
       "4  Skeet Ulrich, Roy Cameron, Anne Heche, Dr Quin...   \n",
       "\n",
       "                               preprocessed_synopsis  \\\n",
       "0  dominate box world adonis creed thrive career ...   \n",
       "1  set decade event film learn story sully family...   \n",
       "2  work underground fix water main brooklyn plumb...   \n",
       "3  series unfortunate event mummy end present day...   \n",
       "4  good hearted teenager william live hope follow...   \n",
       "\n",
       "                                  preprocessed_genre  \n",
       "0                                    drama    action  \n",
       "1             science fiction    adventure    action  \n",
       "2  animation    adventure    family    fantasy   ...  \n",
       "3  animation    comedy    family    adventure    ...  \n",
       "4                                             action  "
      ]
     },
     "execution_count": 4,
     "metadata": {},
     "output_type": "execute_result"
    }
   ],
   "source": [
    "nlp = spacy.load(\"en_core_web_sm\")\n",
    "\n",
    "#each word becomes token\n",
    "def preprocess(text):\n",
    "    tokens = [token.text.lower() for token in nlp(text)]\n",
    "    \n",
    "    #removes stopwords like [\"the\", \"a\", \"and\"]\n",
    "    tokens = [token for token in tokens if token not in STOP_WORDS and token not in string.punctuation]\n",
    "    \n",
    "    #removes 'ing' like boxing became box\n",
    "    lemma_tokens = [token.lemma_ for token in nlp(\" \".join(tokens))]\n",
    "    \n",
    "    #put it into single string\n",
    "    single_string = \" \".join(lemma_tokens)\n",
    "    \n",
    "    return single_string\n",
    "\n",
    "df['preprocessed_synopsis'] = df['overview'].apply(preprocess)\n",
    "df['preprocessed_genre'] = df['genre'].apply(preprocess)\n",
    "df.head()"
   ]
  },
  {
   "cell_type": "markdown",
   "metadata": {},
   "source": [
    "### Tokenize words"
   ]
  },
  {
   "cell_type": "code",
   "execution_count": 5,
   "metadata": {},
   "outputs": [],
   "source": [
    "# Tfidf object\n",
    "vectorizer = TfidfVectorizer()\n",
    "tfidf_matrix = vectorizer.fit_transform(df['preprocessed_synopsis'])"
   ]
  },
  {
   "cell_type": "markdown",
   "metadata": {},
   "source": [
    "### Silhouette Score"
   ]
  },
  {
   "cell_type": "code",
   "execution_count": 8,
   "metadata": {},
   "outputs": [
    {
     "data": {
      "text/plain": [
       "<function matplotlib.pyplot.show(close=None, block=None)>"
      ]
     },
     "execution_count": 8,
     "metadata": {},
     "output_type": "execute_result"
    },
    {
     "data": {
      "image/png": "[encoded data removed]",
      "text/plain": [
       "<Figure size 1000x500 with 1 Axes>"
      ]
     },
     "metadata": {},
     "output_type": "display_data"
    }
   ],
   "source": [
    "silhouette_scores = []\n",
    "for i in range(2, 11): #Testing 2 to 10clusters\n",
    "    kmeans = KMeans(n_clusters=i, random_state=42)\n",
    "    kmeans.fit(tfidf_matrix)\n",
    "    score = silhouette_score(tfidf_matrix, kmeans.labels_)\n",
    "    silhouette_scores.append(score)\n",
    "\n",
    "plt.figure(figsize=(10,5))\n",
    "plt.plot(range(2,11), silhouette_scores, marker='o',linestyle='--')\n",
    "plt.title('Silhoutte Score Method')\n",
    "plt.xlabel('Number of clusters')\n",
    "plt.ylabel('Silhoutte Score')\n",
    "plt.xticks(range(2,11))\n",
    "plt.show"
   ]
  },
  {
   "cell_type": "markdown",
   "metadata": {},
   "source": [
    "### KMeans"
   ]
  },
  {
   "cell_type": "code",
   "execution_count": 9,
   "metadata": {},
   "outputs": [],
   "source": [
    "# Kmeans object\n",
    "kmeans = KMeans(n_clusters=4)  # Try diff n_clusters\n",
    "kmeans.fit(tfidf_matrix)\n",
    "\n",
    "# Cluster for movies\n",
    "df['cluster_label'] = kmeans.labels_"
   ]
  },
  {
   "cell_type": "markdown",
   "metadata": {},
   "source": [
    "### PCA PLOT"
   ]
  },
  {
   "cell_type": "code",
   "execution_count": 10,
   "metadata": {},
   "outputs": [
    {
     "data": {
      "image/png": "[encoded data removed]",
      "text/plain": [
       "<Figure size 640x480 with 1 Axes>"
      ]
     },
     "metadata": {},
     "output_type": "display_data"
    }
   ],
   "source": [
    "pca = PCA().fit(tfidf_matrix.toarray())\n",
    "\n",
    "plt.figure()\n",
    "plt.plot(np.cumsum(pca.explained_variance_ratio_))\n",
    "plt.xlabel('Number of Components')\n",
    "plt.ylabel('Variance (%)')\n",
    "plt.title('Explained Variance')\n",
    "plt.show()"
   ]
  },
  {
   "cell_type": "markdown",
   "metadata": {},
   "source": [
    "### PCA"
   ]
  },
  {
   "cell_type": "code",
   "execution_count": 11,
   "metadata": {},
   "outputs": [],
   "source": [
    "# reduce dimension\n",
    "pca = PCA(n_components=3000) #change n_components\n",
    "reduced_features = pca.fit_transform(tfidf_matrix.toarray())"
   ]
  },
  {
   "cell_type": "markdown",
   "metadata": {},
   "source": [
    "### LDA"
   ]
  },
  {
   "cell_type": "code",
   "execution_count": 12,
   "metadata": {},
   "outputs": [
    {
     "data": {
      "text/plain": [
       "LatentDirichletAllocation()"
      ]
     },
     "execution_count": 12,
     "metadata": {},
     "output_type": "execute_result"
    }
   ],
   "source": [
    "lda = LDA(n_components=10)  # change n_components to see\n",
    "lda.fit(tfidf_matrix)"
   ]
  },
  {
   "cell_type": "markdown",
   "metadata": {},
   "source": [
    "### Movie Recommender Function"
   ]
  },
  {
   "cell_type": "code",
   "execution_count": 13,
   "metadata": {},
   "outputs": [],
   "source": [
    "def recommend_movies(keyword):\n",
    "    # Clean up input\n",
    "    keyword = preprocess(keyword)\n",
    "    \n",
    "    # Tokenize w/ tfidf\n",
    "    keyword_vector = vectorizer.transform([keyword])\n",
    "    \n",
    "    # Predict cluster\n",
    "    cluster = kmeans.predict(keyword_vector)[0]\n",
    "    cluster_movies = df[df['cluster_label'] == cluster] #['names']\n",
    "    \n",
    "    cosine_similarities = cosine_similarity(keyword_vector, tfidf_matrix).flatten()\n",
    "    \n",
    "    top_five = cosine_similarities.argsort()[:-6:-1] #top 5 movies\n",
    "    recommended_movies = df.iloc[top_five][['names', 'score', 'genre', 'overview']] #make sure to add genre scores synopsis\n",
    "    \n",
    "    return recommended_movies\n",
    "\n"
   ]
  },
  {
   "cell_type": "code",
   "execution_count": 14,
   "metadata": {},
   "outputs": [
    {
     "data": {
      "text/html": [
       "<div>\n",
       "<style scoped>\n",
       "    .dataframe tbody tr th:only-of-type {\n",
       "        vertical-align: middle;\n",
       "    }\n",
       "\n",
       "    .dataframe tbody tr th {\n",
       "        vertical-align: top;\n",
       "    }\n",
       "\n",
       "    .dataframe thead th {\n",
       "        text-align: right;\n",
       "    }\n",
       "</style>\n",
       "<table border=\"1\" class=\"dataframe\">\n",
       "  <thead>\n",
       "    <tr style=\"text-align: right;\">\n",
       "      <th></th>\n",
       "      <th>names</th>\n",
       "      <th>score</th>\n",
       "      <th>genre</th>\n",
       "      <th>overview</th>\n",
       "    </tr>\n",
       "  </thead>\n",
       "  <tbody>\n",
       "    <tr>\n",
       "      <th>3553</th>\n",
       "      <td>The Perilous Internet Ring</td>\n",
       "      <td>70.0</td>\n",
       "      <td>Horror, Thriller</td>\n",
       "      <td>A college student investigates a series of mys...</td>\n",
       "    </tr>\n",
       "    <tr>\n",
       "      <th>6832</th>\n",
       "      <td>Lemonade Mouth</td>\n",
       "      <td>75.0</td>\n",
       "      <td>Drama, Comedy, TV Movie</td>\n",
       "      <td>After five disparate high school students meet...</td>\n",
       "    </tr>\n",
       "    <tr>\n",
       "      <th>10091</th>\n",
       "      <td>Love Match</td>\n",
       "      <td>53.0</td>\n",
       "      <td>Romance, Comedy</td>\n",
       "      <td>A sexy comedy about a professor and his female...</td>\n",
       "    </tr>\n",
       "    <tr>\n",
       "      <th>9860</th>\n",
       "      <td>Re-Animator</td>\n",
       "      <td>70.0</td>\n",
       "      <td>Science Fiction, Comedy, Horror</td>\n",
       "      <td>A dedicated student at a medical college and h...</td>\n",
       "    </tr>\n",
       "    <tr>\n",
       "      <th>3304</th>\n",
       "      <td>High School Lynching</td>\n",
       "      <td>30.0</td>\n",
       "      <td>Crime</td>\n",
       "      <td>A high school student is captured and sexually...</td>\n",
       "    </tr>\n",
       "  </tbody>\n",
       "</table>\n",
       "</div>"
      ],
      "text/plain": [
       "                            names  score                            genre  \\\n",
       "3553   The Perilous Internet Ring   70.0                 Horror, Thriller   \n",
       "6832               Lemonade Mouth   75.0          Drama, Comedy, TV Movie   \n",
       "10091                  Love Match   53.0                  Romance, Comedy   \n",
       "9860                  Re-Animator   70.0  Science Fiction, Comedy, Horror   \n",
       "3304         High School Lynching   30.0                            Crime   \n",
       "\n",
       "                                                overview  \n",
       "3553   A college student investigates a series of mys...  \n",
       "6832   After five disparate high school students meet...  \n",
       "10091  A sexy comedy about a professor and his female...  \n",
       "9860   A dedicated student at a medical college and h...  \n",
       "3304   A high school student is captured and sexually...  "
      ]
     },
     "execution_count": 14,
     "metadata": {},
     "output_type": "execute_result"
    }
   ],
   "source": [
    "recommend_movies('student')"
   ]
  },
  {
   "cell_type": "markdown",
   "metadata": {},
   "source": [
    "### Evaluation"
   ]
  },
  {
   "cell_type": "code",
   "execution_count": 15,
   "metadata": {},
   "outputs": [
    {
     "name": "stdout",
     "output_type": "stream",
     "text": [
      "Precision@5: 1.0\n",
      "Recall@5: 1.0\n"
     ]
    }
   ],
   "source": [
    "def evaluate_recommendation_system(query, ground_truth, recommend_function, k=5):\n",
    "    \"\"\"\n",
    "    Evaluate the recommendation system for a given query using Precision@k and Recall@k.\n",
    "    \n",
    "    Parameters:\n",
    "    - query: The query keyword used for generating recommendations.\n",
    "    - ground_truth: A dictionary mapping queries to lists of relevant movie titles.\n",
    "    - recommend_function: The function used to generate movie recommendations.\n",
    "    - k: The number of top recommendations to consider for evaluation.\n",
    "    \n",
    "    Returns:\n",
    "    - precision_k: Precision@k for the given query.\n",
    "    - recall_k: Recall@k for the given query.\n",
    "    \"\"\"\n",
    "    # Generate top-k recommendations for the query\n",
    "    recommended_movies = recommend_function(query)\n",
    "    recommended_titles = set(recommended_movies['names'].tolist())\n",
    "    \n",
    "    # Get the ground truth relevant movies for the query\n",
    "    relevant_movies = set(ground_truth[query])\n",
    "    \n",
    "    # Calculate the number of relevant recommendations\n",
    "    relevant_recommendations = recommended_titles.intersection(relevant_movies)\n",
    "    num_relevant_recommendations = len(relevant_recommendations)\n",
    "    \n",
    "    # Calculate Precision@k and Recall@k\n",
    "    precision_k = num_relevant_recommendations / k\n",
    "    recall_k = num_relevant_recommendations / len(relevant_movies) if relevant_movies else 0\n",
    "    \n",
    "    return precision_k, recall_k\n",
    "\n",
    "# Example usage:\n",
    "ground_truth = {\n",
    "     'student': ['The Perilous Internet Ring', 'Lemonade Mouth', 'Love Match', 'Re-Animator', 'High School Lynching']  # Example ground truth  \n",
    "}\n",
    "\n",
    "query = 'student'\n",
    "precision_k, recall_k = evaluate_recommendation_system(query, ground_truth, recommend_movies, k=5)\n",
    "print(f\"Precision@5: {precision_k}\")\n",
    "print(f\"Recall@5: {recall_k}\")\n"
   ]
  },
  {
   "cell_type": "code",
   "execution_count": 16,
   "metadata": {},
   "outputs": [
    {
     "name": "stdout",
     "output_type": "stream",
     "text": [
      "Precision@5: 0.0\n",
      "Recall@5: 0.0\n"
     ]
    }
   ],
   "source": [
    "def evaluate_recommendation_system(query, ground_truth, recommend_function, k=5):\n",
    "    \"\"\"\n",
    "    Evaluate the recommendation system for a given query using Precision@k and Recall@k.\n",
    "    \n",
    "    Parameters:\n",
    "    - query: The query keyword used for generating recommendations.\n",
    "    - ground_truth: A dictionary mapping queries to lists of relevant movie titles.\n",
    "    - recommend_function: The function used to generate movie recommendations.\n",
    "    - k: The number of top recommendations to consider for evaluation.\n",
    "    \n",
    "    Returns:\n",
    "    - precision_k: Precision@k for the given query.\n",
    "    - recall_k: Recall@k for the given query.\n",
    "    \"\"\"\n",
    "    # Generate top-k recommendations for the query\n",
    "    recommended_movies = recommend_function(query)\n",
    "    recommended_titles = set(recommended_movies['names'].tolist())\n",
    "    \n",
    "    # Get the ground truth relevant movies for the query\n",
    "    relevant_movies = set(ground_truth[query])\n",
    "    \n",
    "    # Calculate the number of relevant recommendations\n",
    "    relevant_recommendations = recommended_titles.intersection(relevant_movies)\n",
    "    num_relevant_recommendations = len(relevant_recommendations)\n",
    "    \n",
    "    # Calculate Precision@k and Recall@k\n",
    "    precision_k = num_relevant_recommendations / k\n",
    "    recall_k = num_relevant_recommendations / len(relevant_movies) if relevant_movies else 0\n",
    "    \n",
    "    return precision_k, recall_k\n",
    "\n",
    "# Example usage:\n",
    "ground_truth = {\n",
    "    # 'basketball': ['Above the Rim', 'The Way Back', 'He Got Game', 'Kuroko\\'s Basketball the Movie: Last Game', 'Triple Standard']  # Example ground truth\n",
    "     #'hacker': ['Criminal', 'Cazadora', 'The Passion of the Christ', 'Murder Mystery 2', 'Bandit']  # Example ground truth\n",
    "    'student': ['Hex', 'Cazadora', 'Above the Rim', 'Tetris', 'Spider-Man: No Way Home']  # Example ground truth\n",
    "}\n",
    "\n",
    "query = 'student'\n",
    "precision_k, recall_k = evaluate_recommendation_system(query, ground_truth, recommend_movies, k=5)\n",
    "print(f\"Precision@5: {precision_k}\")\n",
    "print(f\"Recall@5: {recall_k}\")\n"
   ]
  },
  {
   "cell_type": "code",
   "execution_count": null,
   "metadata": {},
   "outputs": [],
   "source": []
  }
 ],
 "metadata": {
  "kernelspec": {
   "display_name": "Python 3 (ipykernel)",
   "language": "python",
   "name": "python3"
  },
  "language_info": {
   "codemirror_mode": {
    "name": "ipython",
    "version": 3
   },
   "file_extension": ".py",
   "mimetype": "text/x-python",
   "name": "python",
   "nbconvert_exporter": "python",
   "pygments_lexer": "ipython3",
   "version": "3.7.9"
  }
 },
 "nbformat": 4,
 "nbformat_minor": 2
}
